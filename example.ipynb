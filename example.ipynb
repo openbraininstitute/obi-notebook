{
 "cells": [
  {
   "cell_type": "code",
   "execution_count": null,
   "id": "d139baec",
   "metadata": {},
   "outputs": [
    {
     "name": "stdout",
     "output_type": "stream",
     "text": [
      "staging\n"
     ]
    }
   ],
   "source": [
    "import os\n",
    "\n",
    "from obi_notebook.get_environment import VAR_ENVIRONMENT\n",
    "from obi_notebook.get_projects import VAR_PROJECT\n",
    "\n",
    "os.environ[VAR_ENVIRONMENT] = \"staging\"\n",
    "os.environ[VAR_PROJECT] = \"2720f785-a3a2-4472-969d-19a53891c817\"\n",
    "print(os.getenv(VAR_ENVIRONMENT))"
   ]
  },
  {
   "cell_type": "code",
   "execution_count": 17,
   "id": "7eb47475-67c6-499a-a2b4-19f8a64974d0",
   "metadata": {},
   "outputs": [
    {
     "name": "stdout",
     "output_type": "stream",
     "text": [
      "staging\n"
     ]
    }
   ],
   "source": [
    "import obi_auth\n",
    "\n",
    "from obi_notebook import get_entities, get_environment, get_projects\n",
    "\n",
    "environment_str = get_environment.get_environment()\n",
    "print(environment_str)"
   ]
  },
  {
   "cell_type": "markdown",
   "id": "4d984b92-cadd-4b07-9813-b2333272610f",
   "metadata": {},
   "source": [
    "get authentication token for production"
   ]
  },
  {
   "cell_type": "code",
   "execution_count": 18,
   "id": "323cb45c-91e3-451f-8a80-374e61433d31",
   "metadata": {},
   "outputs": [],
   "source": [
    "token = obi_auth.get_token(environment=environment_str)"
   ]
  },
  {
   "cell_type": "markdown",
   "id": "b60e8643-3ad5-4619-a052-5bd8b64713fd",
   "metadata": {},
   "source": [
    "a widget to select project to use"
   ]
  },
  {
   "cell_type": "code",
   "execution_count": 19,
   "id": "77c47560-1163-4466-83fc-43abc6e0801a",
   "metadata": {},
   "outputs": [
    {
     "data": {
      "application/vnd.jupyter.widget-view+json": {
       "model_id": "ad8ad7fd4ae549c9aea35d117de7f8a9",
       "version_major": 2,
       "version_minor": 0
      },
      "text/plain": [
       "Dropdown(description='Select:', index=3, options=(('Proximal vs. distal inhibition', {'id': '32008ab5-76cf-47c…"
      ]
     },
     "metadata": {},
     "output_type": "display_data"
    }
   ],
   "source": [
    "project_context = get_projects.get_projects(token)"
   ]
  },
  {
   "cell_type": "code",
   "execution_count": 20,
   "id": "d538dcac-1bdc-496b-8840-a7b32ea842ed",
   "metadata": {},
   "outputs": [
    {
     "data": {
      "text/plain": [
       "ProjectContext(project_id=UUID('2720f785-a3a2-4472-969d-19a53891c817'), virtual_lab_id=UUID('e6030ed8-a589-4be2-80a6-f975406eb1f6'), environment=<DeploymentEnvironment.staging: 'staging'>)"
      ]
     },
     "execution_count": 20,
     "metadata": {},
     "output_type": "execute_result"
    }
   ],
   "source": [
    "project_context"
   ]
  },
  {
   "cell_type": "code",
   "execution_count": 21,
   "id": "93029f77-d71f-40f4-8c4d-9f23d2b650bc",
   "metadata": {},
   "outputs": [
    {
     "data": {
      "application/vnd.jupyter.widget-view+json": {
       "model_id": "564aa85779244255ae9a663bdacc1425",
       "version_major": 2,
       "version_minor": 0
      },
      "text/plain": [
       "HBox(children=(Dropdown(description='Scale:', index=1, options=('pair', 'small', 'microcircuit', 'region', 'sy…"
      ]
     },
     "metadata": {},
     "output_type": "display_data"
    },
    {
     "data": {
      "application/vnd.jupyter.widget-view+json": {
       "model_id": "70b8125a2d3f4fbfacace7f21f723014",
       "version_major": 2,
       "version_minor": 0
      },
      "text/plain": [
       "Output()"
      ]
     },
     "metadata": {},
     "output_type": "display_data"
    }
   ],
   "source": [
    "circuit_ids = []\n",
    "circuit_ids = get_entities.get_entities(\n",
    "    \"circuit\",\n",
    "    token,\n",
    "    circuit_ids,\n",
    "    return_entities=False,\n",
    "    multi_select=True,\n",
    "    show_pages=True,\n",
    "    project_context=project_context,\n",
    "    page_size=10,\n",
    "    default_scale=\"small\",\n",
    "    exclude_scales=[\"single\"],\n",
    "    add_columns=[\"subject.name\"],\n",
    ")"
   ]
  },
  {
   "cell_type": "code",
   "execution_count": 22,
   "id": "da699ed4-39fd-4602-b54d-58a0b58c2539",
   "metadata": {},
   "outputs": [
    {
     "data": {
      "text/plain": [
       "['c940188a-5408-4185-ab3b-dbb20de16621']"
      ]
     },
     "execution_count": 22,
     "metadata": {},
     "output_type": "execute_result"
    }
   ],
   "source": [
    "circuit_ids"
   ]
  },
  {
   "cell_type": "code",
   "execution_count": 23,
   "id": "a5f5445d-a61a-4fbe-962f-51e701434771",
   "metadata": {},
   "outputs": [
    {
     "data": {
      "application/vnd.jupyter.widget-view+json": {
       "model_id": "d0cd6575a6f544649f79d7b11cbca11f",
       "version_major": 2,
       "version_minor": 0
      },
      "text/plain": [
       "HBox(children=(Combobox(value='', description='M-Type:', ensure_option=True, options=('A_BC', 'A_BFP', 'ACB_CT…"
      ]
     },
     "metadata": {},
     "output_type": "display_data"
    },
    {
     "data": {
      "application/vnd.jupyter.widget-view+json": {
       "model_id": "8f69556092214a10a5d8ccedfc16be61",
       "version_major": 2,
       "version_minor": 0
      },
      "text/plain": [
       "Output()"
      ]
     },
     "metadata": {},
     "output_type": "display_data"
    }
   ],
   "source": [
    "morph_ids = []\n",
    "morph_ids = get_entities.get_entities(\n",
    "    \"cell-morphology\",\n",
    "    token,\n",
    "    morph_ids,\n",
    "    return_entities=False,\n",
    "    multi_select=True,\n",
    "    show_pages=True,\n",
    "    project_context=project_context,\n",
    "    page_size=100,\n",
    "    add_columns=[\"mtypes\"],\n",
    ")"
   ]
  },
  {
   "cell_type": "code",
   "execution_count": 24,
   "id": "2c9d28c4",
   "metadata": {},
   "outputs": [
    {
     "data": {
      "text/plain": [
       "['60790bf5-fbf9-4298-a117-6a8709307749']"
      ]
     },
     "execution_count": 24,
     "metadata": {},
     "output_type": "execute_result"
    }
   ],
   "source": [
    "morph_ids"
   ]
  },
  {
   "cell_type": "code",
   "execution_count": 25,
   "id": "90757b52",
   "metadata": {},
   "outputs": [
    {
     "data": {
      "application/vnd.jupyter.widget-view+json": {
       "model_id": "d5fa64cc942b4881abe26507788b37db",
       "version_major": 2,
       "version_minor": 0
      },
      "text/plain": [
       "HBox(children=(Combobox(value='', description='EM-Dataset:', ensure_option=True, options=('Portion 65 of the I…"
      ]
     },
     "metadata": {},
     "output_type": "display_data"
    },
    {
     "data": {
      "application/vnd.jupyter.widget-view+json": {
       "model_id": "daf19e7195614dfb8bc5291e03b3d104",
       "version_major": 2,
       "version_minor": 0
      },
      "text/plain": [
       "Output()"
      ]
     },
     "metadata": {},
     "output_type": "display_data"
    }
   ],
   "source": [
    "cell_mesh_ids = []\n",
    "cell_mesh_ids = get_entities.get_entities(\n",
    "    \"em-cell-mesh\",\n",
    "    token,\n",
    "    cell_mesh_ids,\n",
    "    return_entities=False,\n",
    "    multi_select=True,\n",
    "    show_pages=True,\n",
    "    project_context=project_context,\n",
    "    page_size=10,\n",
    "    add_columns=[\"dense_reconstruction_cell_id\", \"subject.name\"],\n",
    ")"
   ]
  },
  {
   "cell_type": "code",
   "execution_count": 26,
   "id": "6964ebe2",
   "metadata": {},
   "outputs": [
    {
     "data": {
      "text/plain": [
       "['e915d259-d03a-4544-8109-a86bbd4cd722']"
      ]
     },
     "execution_count": 26,
     "metadata": {},
     "output_type": "execute_result"
    }
   ],
   "source": [
    "cell_mesh_ids"
   ]
  }
 ],
 "metadata": {
  "kernelspec": {
   "display_name": ".venv (3.13.1)",
   "language": "python",
   "name": "python3"
  },
  "language_info": {
   "codemirror_mode": {
    "name": "ipython",
    "version": 3
   },
   "file_extension": ".py",
   "mimetype": "text/x-python",
   "name": "python",
   "nbconvert_exporter": "python",
   "pygments_lexer": "ipython3",
   "version": "3.13.1"
  }
 },
 "nbformat": 4,
 "nbformat_minor": 5
}
