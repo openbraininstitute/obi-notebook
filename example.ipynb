{
 "cells": [
  {
   "cell_type": "code",
   "execution_count": 1,
   "id": "7eb47475-67c6-499a-a2b4-19f8a64974d0",
   "metadata": {},
   "outputs": [],
   "source": [
    "import obi_auth\n",
    "from obi_notebook import get_projects, get_entities"
   ]
  },
  {
   "cell_type": "markdown",
   "id": "4d984b92-cadd-4b07-9813-b2333272610f",
   "metadata": {},
   "source": [
    "get authentication token for production"
   ]
  },
  {
   "cell_type": "code",
   "execution_count": 2,
   "id": "323cb45c-91e3-451f-8a80-374e61433d31",
   "metadata": {},
   "outputs": [],
   "source": [
    "token = obi_auth.get_token(environment=\"production\")"
   ]
  },
  {
   "cell_type": "markdown",
   "id": "b60e8643-3ad5-4619-a052-5bd8b64713fd",
   "metadata": {},
   "source": [
    "a widget to select project to use"
   ]
  },
  {
   "cell_type": "code",
   "execution_count": 3,
   "id": "77c47560-1163-4466-83fc-43abc6e0801a",
   "metadata": {},
   "outputs": [
    {
     "data": {
      "application/vnd.jupyter.widget-view+json": {
       "model_id": "d2d71cd6618946019ac595e76da1aeac",
       "version_major": 2,
       "version_minor": 0
      },
      "text/plain": [
       "Dropdown(description='Select:', options=(('My first project', {'id': '7d22829c-edc6-4b1d-8ab9-99dd9e511e74', '…"
      ]
     },
     "metadata": {},
     "output_type": "display_data"
    }
   ],
   "source": [
    "project_context = get_projects.get_projects(token)"
   ]
  },
  {
   "cell_type": "code",
   "execution_count": 4,
   "id": "d538dcac-1bdc-496b-8840-a7b32ea842ed",
   "metadata": {},
   "outputs": [
    {
     "data": {
      "text/plain": [
       "ProjectContext(project_id=UUID('7d22829c-edc6-4b1d-8ab9-99dd9e511e74'), virtual_lab_id=UUID('5f8376bf-b84f-4188-8ef5-e1df3d7529b4'), environment=<DeploymentEnvironment.production: 'production'>)"
      ]
     },
     "execution_count": 4,
     "metadata": {},
     "output_type": "execute_result"
    }
   ],
   "source": [
    "project_context"
   ]
  },
  {
   "cell_type": "code",
   "execution_count": 5,
   "id": "93029f77-d71f-40f4-8c4d-9f23d2b650bc",
   "metadata": {},
   "outputs": [
    {
     "data": {
      "application/vnd.jupyter.widget-view+json": {
       "model_id": "7e5e01cc48de4739a72f019905c189e7",
       "version_major": 2,
       "version_minor": 0
      },
      "text/plain": [
       "HBox(children=(Dropdown(description='Scale:', index=2, options=('single', 'pair', 'small', 'microcircuit', 're…"
      ]
     },
     "metadata": {},
     "output_type": "display_data"
    },
    {
     "data": {
      "application/vnd.jupyter.widget-view+json": {
       "model_id": "d453f845b110461f94d6a5fb5cbbe5f9",
       "version_major": 2,
       "version_minor": 0
      },
      "text/plain": [
       "Output()"
      ]
     },
     "metadata": {},
     "output_type": "display_data"
    }
   ],
   "source": [
    "circuit_ids = []\n",
    "circuit_ids = get_entities.get_entities(\"circuit\", token, circuit_ids, return_entities=False, multi_select=True, show_pages=True, page_size=10, default_scale=\"small\", add_columns=[\"subject.name\"])"
   ]
  },
  {
   "cell_type": "code",
   "execution_count": 7,
   "id": "da699ed4-39fd-4602-b54d-58a0b58c2539",
   "metadata": {},
   "outputs": [
    {
     "data": {
      "text/plain": [
       "['05cfa4e6-a44e-44ce-9005-65f204a406a6',\n",
       " 'beb65adc-5d4d-42b2-b45e-dc6ae83e4236',\n",
       " '30a3a072-6e60-4042-8698-01bb0875be63',\n",
       " 'e9380365-7f37-4b8f-854b-7de929c59a48']"
      ]
     },
     "execution_count": 7,
     "metadata": {},
     "output_type": "execute_result"
    }
   ],
   "source": [
    "circuit_ids"
   ]
  },
  {
   "cell_type": "code",
   "execution_count": null,
   "id": "a5f5445d-a61a-4fbe-962f-51e701434771",
   "metadata": {},
   "outputs": [],
   "source": []
  }
 ],
 "metadata": {
  "kernelspec": {
   "display_name": "obi-one",
   "language": "python",
   "name": "obi-one"
  },
  "language_info": {
   "codemirror_mode": {
    "name": "ipython",
    "version": 3
   },
   "file_extension": ".py",
   "mimetype": "text/x-python",
   "name": "python",
   "nbconvert_exporter": "python",
   "pygments_lexer": "ipython3",
   "version": "3.12.9"
  }
 },
 "nbformat": 4,
 "nbformat_minor": 5
}
