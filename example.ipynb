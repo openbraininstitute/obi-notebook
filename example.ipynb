{
 "cells": [
  {
   "cell_type": "code",
   "execution_count": 1,
   "id": "7eb47475-67c6-499a-a2b4-19f8a64974d0",
   "metadata": {},
   "outputs": [],
   "source": [
    "import obi_auth\n",
    "\n",
    "from obi_notebook import get_entities, get_projects\n",
    "\n",
    "environment_str = \"staging\""
   ]
  },
  {
   "cell_type": "markdown",
   "id": "4d984b92-cadd-4b07-9813-b2333272610f",
   "metadata": {},
   "source": [
    "get authentication token for production"
   ]
  },
  {
   "cell_type": "code",
   "execution_count": 2,
   "id": "323cb45c-91e3-451f-8a80-374e61433d31",
   "metadata": {},
   "outputs": [],
   "source": [
    "token = obi_auth.get_token(environment=environment_str)"
   ]
  },
  {
   "cell_type": "markdown",
   "id": "b60e8643-3ad5-4619-a052-5bd8b64713fd",
   "metadata": {},
   "source": [
    "a widget to select project to use"
   ]
  },
  {
   "cell_type": "code",
   "execution_count": 3,
   "id": "77c47560-1163-4466-83fc-43abc6e0801a",
   "metadata": {},
   "outputs": [
    {
     "data": {
      "application/vnd.jupyter.widget-view+json": {
       "model_id": "639a72897c7045f78bb7aea5afbec767",
       "version_major": 2,
       "version_minor": 0
      },
      "text/plain": [
       "Dropdown(description='Select:', options=(('Proximal vs. distal inhibition', {'id': '32008ab5-76cf-47cd-b98b-a5…"
      ]
     },
     "metadata": {},
     "output_type": "display_data"
    }
   ],
   "source": [
    "project_context = get_projects.get_projects(token, env=\"staging\")"
   ]
  },
  {
   "cell_type": "code",
   "execution_count": 4,
   "id": "d538dcac-1bdc-496b-8840-a7b32ea842ed",
   "metadata": {},
   "outputs": [
    {
     "data": {
      "text/plain": [
       "ProjectContext(project_id=UUID('32008ab5-76cf-47cd-b98b-a5013b30b533'), virtual_lab_id=UUID('1d8cccc0-f992-46aa-aac6-88e63c914314'), environment=<DeploymentEnvironment.staging: 'staging'>)"
      ]
     },
     "execution_count": 4,
     "metadata": {},
     "output_type": "execute_result"
    }
   ],
   "source": [
    "project_context"
   ]
  },
  {
   "cell_type": "code",
   "execution_count": 5,
   "id": "93029f77-d71f-40f4-8c4d-9f23d2b650bc",
   "metadata": {},
   "outputs": [
    {
     "data": {
      "application/vnd.jupyter.widget-view+json": {
       "model_id": "e4b6463129a546d394d57efc46d07d7c",
       "version_major": 2,
       "version_minor": 0
      },
      "text/plain": [
       "HBox(children=(Dropdown(description='Scale:', index=1, options=('pair', 'small', 'microcircuit', 'region', 'sy…"
      ]
     },
     "metadata": {},
     "output_type": "display_data"
    },
    {
     "data": {
      "application/vnd.jupyter.widget-view+json": {
       "model_id": "9201fb70a891499cadada69780277194",
       "version_major": 2,
       "version_minor": 0
      },
      "text/plain": [
       "Output()"
      ]
     },
     "metadata": {},
     "output_type": "display_data"
    }
   ],
   "source": [
    "circuit_ids = []\n",
    "circuit_ids = get_entities.get_entities(\n",
    "    \"circuit\",\n",
    "    token,\n",
    "    circuit_ids,\n",
    "    return_entities=False,\n",
    "    multi_select=True,\n",
    "    show_pages=True,\n",
    "    project_context=project_context,\n",
    "    page_size=10,\n",
    "    default_scale=\"small\",\n",
    "    exclude_scales=[\"single\"],\n",
    "    add_columns=[\"subject.name\"],\n",
    "    env=environment_str,\n",
    ")"
   ]
  },
  {
   "cell_type": "code",
   "execution_count": 9,
   "id": "da699ed4-39fd-4602-b54d-58a0b58c2539",
   "metadata": {},
   "outputs": [
    {
     "data": {
      "text/plain": [
       "['b86271b6-c56f-4c26-b502-05ef5bb514b6',\n",
       " '3877500c-126d-410c-aa09-e44831464e80',\n",
       " 'd66cea8b-5c9d-4bfb-bbfd-ca3d5fb5f12c']"
      ]
     },
     "execution_count": 9,
     "metadata": {},
     "output_type": "execute_result"
    }
   ],
   "source": [
    "circuit_ids"
   ]
  },
  {
   "cell_type": "code",
   "execution_count": 6,
   "id": "a5f5445d-a61a-4fbe-962f-51e701434771",
   "metadata": {},
   "outputs": [
    {
     "data": {
      "application/vnd.jupyter.widget-view+json": {
       "model_id": "5fb0a08d2ce94d58a039c47fdd2f217f",
       "version_major": 2,
       "version_minor": 0
      },
      "text/plain": [
       "HBox(children=(Combobox(value='', description='M-Type:', ensure_option=True, options=('A_BC', 'A_BFP', 'ACB_CT…"
      ]
     },
     "metadata": {},
     "output_type": "display_data"
    },
    {
     "data": {
      "application/vnd.jupyter.widget-view+json": {
       "model_id": "a0c7ca20d54946f2af3e181c3adb3d70",
       "version_major": 2,
       "version_minor": 0
      },
      "text/plain": [
       "Output()"
      ]
     },
     "metadata": {},
     "output_type": "display_data"
    }
   ],
   "source": [
    "morph_ids = []\n",
    "morph_ids = get_entities.get_entities(\n",
    "    \"cell-morphology\",\n",
    "    token,\n",
    "    morph_ids,\n",
    "    return_entities=False,\n",
    "    multi_select=True,\n",
    "    show_pages=True,\n",
    "    project_context=project_context,\n",
    "    page_size=100,\n",
    "    add_columns=[\"mtypes\"],\n",
    "    env=environment_str,\n",
    ")"
   ]
  },
  {
   "cell_type": "code",
   "execution_count": 7,
   "id": "2c9d28c4",
   "metadata": {},
   "outputs": [
    {
     "data": {
      "text/plain": [
       "['50248fe3-83bd-4c88-917b-63bcf0e01385',\n",
       " '1c8ce2b1-3da1-4953-9b1b-bee8656000c4',\n",
       " '15d02969-1e40-40ba-9081-d475d05897fd']"
      ]
     },
     "execution_count": 7,
     "metadata": {},
     "output_type": "execute_result"
    }
   ],
   "source": [
    "morph_ids"
   ]
  },
  {
   "cell_type": "code",
   "execution_count": 10,
   "id": "90757b52",
   "metadata": {},
   "outputs": [
    {
     "data": {
      "application/vnd.jupyter.widget-view+json": {
       "model_id": "c2a91b53873b4e1fa54c161a59830f6b",
       "version_major": 2,
       "version_minor": 0
      },
      "text/plain": [
       "HBox(children=(Combobox(value='', description='EM-Dataset:', ensure_option=True, options=('Portion 65 of the I…"
      ]
     },
     "metadata": {},
     "output_type": "display_data"
    },
    {
     "data": {
      "application/vnd.jupyter.widget-view+json": {
       "model_id": "a08fd579c61b4377a0dd01478a5951be",
       "version_major": 2,
       "version_minor": 0
      },
      "text/plain": [
       "Output()"
      ]
     },
     "metadata": {},
     "output_type": "display_data"
    }
   ],
   "source": [
    "cell_mesh_ids = []\n",
    "circuit_ids = get_entities.get_entities(\n",
    "    \"em-cell-mesh\",\n",
    "    token,\n",
    "    cell_mesh_ids,\n",
    "    return_entities=False,\n",
    "    multi_select=True,\n",
    "    show_pages=True,\n",
    "    project_context=project_context,\n",
    "    page_size=10,\n",
    "    env=environment_str,\n",
    "    add_columns=[\"dense_reconstruction_cell_id\", \"subject.name\"],\n",
    ")"
   ]
  },
  {
   "cell_type": "code",
   "execution_count": 11,
   "id": "6964ebe2",
   "metadata": {},
   "outputs": [
    {
     "data": {
      "text/plain": [
       "['2205be1a-a6db-4523-9a7b-0af309996583']"
      ]
     },
     "execution_count": 11,
     "metadata": {},
     "output_type": "execute_result"
    }
   ],
   "source": [
    "cell_mesh_ids"
   ]
  }
 ],
 "metadata": {
  "kernelspec": {
   "display_name": ".venv (3.13.1)",
   "language": "python",
   "name": "python3"
  },
  "language_info": {
   "codemirror_mode": {
    "name": "ipython",
    "version": 3
   },
   "file_extension": ".py",
   "mimetype": "text/x-python",
   "name": "python",
   "nbconvert_exporter": "python",
   "pygments_lexer": "ipython3",
   "version": "3.13.1"
  }
 },
 "nbformat": 4,
 "nbformat_minor": 5
}
