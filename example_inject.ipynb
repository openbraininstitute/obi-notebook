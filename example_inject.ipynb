{
 "cells": [
  {
   "cell_type": "code",
   "execution_count": 1,
   "id": "1e934518",
   "metadata": {},
   "outputs": [],
   "source": [
    "from obi_notebook.inject_cells import inject_selection_widget\n",
    "\n",
    "inject_selection_widget(\"nb_in.ipynb\", \"nb_out.ipynb\", \"circuit\", \"my_circuit\")"
   ]
  },
  {
   "cell_type": "code",
   "execution_count": null,
   "id": "d2738fe8",
   "metadata": {},
   "outputs": [],
   "source": [
    "from obi_notebook.inject_cells import inject_selected_ids\n",
    "\n",
    "inject_selected_ids(\"nb_in.ipynb\", \"nb_out_selected.ipynb\", \"circuit\",\n",
    "                    '1e1d11a4-582b-4d67-ae8c-58945fa8b346', \"my_circuit\")"
   ]
  }
 ],
 "metadata": {
  "kernelspec": {
   "display_name": ".venv (3.13.1)",
   "language": "python",
   "name": "python3"
  },
  "language_info": {
   "codemirror_mode": {
    "name": "ipython",
    "version": 3
   },
   "file_extension": ".py",
   "mimetype": "text/x-python",
   "name": "python",
   "nbconvert_exporter": "python",
   "pygments_lexer": "ipython3",
   "version": "3.13.1"
  }
 },
 "nbformat": 4,
 "nbformat_minor": 5
}
